{
 "cells": [
  {
   "cell_type": "markdown",
   "metadata": {},
   "source": [
    "# Decision Tree for Identifying Alcohol Abuse #\n",
    "\n",
    "** Submitted as part of Machine Learning for Data Analysis by Wesleyan University **\n",
    "\n",
    "** Author: Oliver Morris **\n",
    "\n",
    "** Date: 12 March 2016 **\n",
    "\n",
    "The below analysis will show the code and describe the context of a decision tree constructed in python which identifies whether a person has declared the onset of alcohol abuse.\n",
    "\n",
    "This uses the NESARC data, which is a standard data set for the course. \n",
    "\n",
    "This blog entry was published using Jupyter, which is designed for sharing reproducible data science in python. The code was prepared in Visual Studio 2015 Community Edition with Anaconda and an IPython interactive window installed.\n"
   ]
  },
  {
   "cell_type": "markdown",
   "metadata": {},
   "source": [
    "## Dependencies ##\n",
    "\n",
    "The packages used are the same as for the example code, however, pandasql which is sql-lite for python, has also been introduced. This is used in the cleaning of the NESARC data into a format usable by the decision tree code."
   ]
  },
  {
   "cell_type": "code",
   "execution_count": 1,
   "metadata": {
    "collapsed": true
   },
   "outputs": [],
   "source": [
    "from pandas import Series, DataFrame\n",
    "import pandas as pd\n",
    "import numpy as np\n",
    "import os\n",
    "import matplotlib.pylab as plt\n",
    "from sklearn.cross_validation import train_test_split\n",
    "from sklearn.tree import DecisionTreeClassifier\n",
    "from sklearn.metrics import classification_report\n",
    "import sklearn.metrics\n",
    "\n",
    "#we also need pandasql so we can efficiently clean the data\n",
    "from pandasql import sqldf"
   ]
  },
  {
   "cell_type": "markdown",
   "metadata": {},
   "source": [
    "## The NESARC Data ##\n",
    "\n",
    "The NESARC data set is large, over "
   ]
  },
  {
   "cell_type": "code",
   "execution_count": null,
   "metadata": {
    "collapsed": true
   },
   "outputs": [],
   "source": [
    "#set working directory to course folder\n",
    "os.chdir(\"C:/Users/Oliver/Documents/0_OM/Training/WesleyanPython\")\n",
    "\n",
    "#Load the Alchohol Abuse Dataset, NESARC, remove 'na' records.\n",
    "NESARC_data = pd.read_csv(\"nesarc_pds.csv\")\n",
    "data_clean = NESARC_data.dropna()\n",
    "\n",
    "#This dataset does not suffer from 'na's, but it does have lots of blanks.\n",
    "#Those will be removed in a later code chunk"
   ]
  },
  {
   "cell_type": "markdown",
   "metadata": {},
   "source": [
    "## Get Predictors & Target from Dataset ##\n",
    "\n",
    "There are hundreds of predictors in the NESARC data list, the following were selected as predictors for the decision tree simply because they appeared reasonable. Note the target is extracted at the same time, this assists with data cleaning in a later step."
   ]
  },
  {
   "cell_type": "code",
   "execution_count": null,
   "metadata": {
    "collapsed": true
   },
   "outputs": [],
   "source": [
    "#Get predictors from dataset\n",
    "target_and_predictors_fullset = data_clean[[\n",
    "# TARGET\n",
    " 'S2BQ3A', #AGE AT ONSET OF ALCOHOL ABUSE\n",
    "\n",
    "# PREDICTORS\n",
    " 'S1Q1E',  #ORIGIN OR DESCENT\n",
    " 'S1Q2C1', #RAISED BY ADOPTIVE PARENTS BEFORE AGE 18\n",
    " 'S1Q2B',  #BIOLOGICAL FATHER EVER LIVE IN HOUSEHOLD BEFORE RESPONDENT WAS 18\n",
    " 'S1Q2C4', #RAISED IN AN INSTITUTION BEFORE AGE 18\n",
    " 'S1Q2D',  #DID BIOLOGICAL OR ADOPTIVE PARENTS GET DIVORCED OR PERMANENTLY STOP LIVING TOGETHER BEFORE RESPONDENT WAS 18\n",
    " 'S1Q2K',  #DID BIOLOGICAL OR ADOPTIVE PARENT DIE BEFORE RESPONDENT WAS 18\n",
    " 'S1Q2L',  #AGE AT DEATH OF BIOLOGICAL OR ADOPTIVE PARENT\n",
    " 'S1Q4A',  #AGE AT FIRST MARRIAGE\n",
    " 'S1Q5A',  #CHILDREN EVER HAD, INCLUDING ADOPTIVE, STEP AND FOSTER CHILDREN\n",
    " 'S1Q6A',  #HIGHEST GRADE OR YEAR OF SCHOOL COMPLETED\n",
    " 'MARITAL',#CURRENT MARITAL STATUS\n",
    " 'AGE',    #AGE\n",
    " 'SEX'     #SEX\n",
    " ]]"
   ]
  },
  {
   "cell_type": "markdown",
   "metadata": {},
   "source": [
    "## Data Cleaning ##\n",
    "\n",
    "The NESARC data has lots of blanks, many of which are valid and do not mean 'unknown'. The data can be made useful by replacing blanks with another integer, which was chosen following review of the NESARC codebook.\n",
    "\n",
    "Also, the number of predictors was reduced to just three in order to simplify the decision tree for presentation. With 13 predictors the tree has hundreds of branches. The predictors used are as follows (note zero based index):\n",
    "\n",
    "    [0]. DID BIOLOGICAL OR ADOPTIVE PARENTS GET DIVORCED OR PERMANENTLY STOP LIVING TOGETHER BEFORE RESPONDENT WAS 18\n",
    "    [1]. DID BIOLOGICAL OR ADOPTIVE PARENT DIE BEFORE RESPONDENT WAS 18\n",
    "    [2]. AGE AT FIRST MARRIAGE\n",
    "\n",
    "The target needs to be simplified into a yes/no outcome, yet the selected field is \"Age at onset of alohol abuse\". This can be any integer from 1-99, or blank if there is no abuse. So, the data is simplified to 1 if there is any age at which alcohol absue developed, else 0.\n",
    "\n",
    "Finally, the records where these predictors are 'unknown', usually represented by a '9', are removed as 'unknowns' simply confuse the decision tree."
   ]
  },
  {
   "cell_type": "code",
   "execution_count": null,
   "metadata": {
    "collapsed": true
   },
   "outputs": [],
   "source": [
    "#Clean predictors, which are mostly blanks.\n",
    "query = \"\"\"\n",
    "SELECT\n",
    "     CASE WHEN LTRIM(S1Q2D) = '' THEN  2 ELSE CAST(LTRIM(S1Q2D) AS INTEGER) END AS S1Q2D \n",
    "     --i.e. parental divorce before 18, 1=Yes, 2=No, 9 = Unknown\n",
    "     --Default for blank is No (2), because blanks are where child did not live with parents, hence no divorce\n",
    "     \n",
    "    ,CASE WHEN LTRIM(S1Q2K) = '' THEN  2 ELSE CAST(LTRIM(S1Q2K) AS INTEGER) END AS S1Q2K\n",
    "     --i.e. parent death before 18, 1=Yes, 2=No, 9 = Unknown\n",
    "     --Default for blank is No (2), because blanks are where child did not live with parents, hence no death\n",
    "    \n",
    "    ,CASE WHEN LTRIM(S1Q4A) = '' THEN 99 ELSE CAST(LTRIM(S1Q4A) AS INTEGER) END AS S1Q4A\n",
    "     --i.e. age at first marriage, integer value unless not married, which is blank.\n",
    "     --Default for blank is 99, because this indicates not married whilst young.\n",
    "FROM\n",
    "    target_and_predictors_fullset\n",
    "WHERE\n",
    "    --Remove the 'unknown' values, as thse confuse the decision tree\n",
    "    S1Q2D <> 9\n",
    "    AND\n",
    "    S1Q2K <> 9\n",
    "\"\"\"\n",
    "predictors = sqldf(query, locals())\n",
    "\n",
    "#Clean Targets\n",
    "query = \"\"\"\n",
    "SELECT\n",
    "    CASE WHEN LTRIM(S2BQ3A) = '' THEN 0 ELSE 1 END AS S2BQ3A\n",
    "    --S2BQ3A = AGE AT ONSET OF ALCOHOL ABUSE\n",
    "    --i.e. integer value up to 99, but blank = no alcohol abuse\n",
    "    --We convert this to a classification outcome by saying any age = 1, but blank = 0\n",
    "FROM\n",
    "    target_and_predictors_fullset\n",
    "WHERE\n",
    "    --Remove the 'unknown' values, as thse confuse the decision tree\n",
    "    --This is the reason we extracted targets and predictors in the same dataframe, i.e. to apply the same 'where' clause. \n",
    "    S1Q2D <> 9\n",
    "    AND\n",
    "    S1Q2K <> 9\n",
    "\"\"\"\n",
    "targets = sqldf(query, locals())\n",
    "\n",
    "#now that we have predictors and target we can save memory by clearing the unused data frames\n",
    "del NESARC_data\n",
    "del predictors_fullset\n",
    "del data_clean\n"
   ]
  },
  {
   "cell_type": "markdown",
   "metadata": {},
   "source": [
    "## Model Training ##\n",
    "\n",
    "The only major change as compared with the example code is the test_size, which has be changed from 0.4 to 0.99. This is an unreasonably large proportion of the data to apply to testing. This was chosen because larger training sets led to enormousand unwieldy decision trees that added no accuracy for their complexity.\n",
    "\n",
    "Using three predictors gave a accuracy of 69%"
   ]
  },
  {
   "cell_type": "code",
   "execution_count": null,
   "metadata": {
    "collapsed": true
   },
   "outputs": [],
   "source": [
    "#Separate data into training and test set\n",
    "pred_train, pred_test, tar_train, tar_test  =   train_test_split(predictors, targets, test_size=.997)\n",
    "pred_train.shape\n",
    "pred_test.shape\n",
    "tar_train.shape\n",
    "tar_test.shape\n",
    "\n",
    "#Build model on training data\n",
    "classifier=DecisionTreeClassifier()\n",
    "classifier=classifier.fit(pred_train,tar_train)\n",
    "\n",
    "#Get predcitions\n",
    "predictions=classifier.predict(pred_test)\n",
    "\n",
    "#Publish confusion matrix and accuracy\n",
    "sklearn.metrics.confusion_matrix(tar_test,predictions)\n",
    "sklearn.metrics.accuracy_score(tar_test, predictions)"
   ]
  },
  {
   "cell_type": "markdown",
   "metadata": {},
   "source": [
    "## Display the Results ##\n",
    "\n",
    "The resulting decision tree relies mostly on [2] age at marriage, possibly because this is more than a yes/no classifier. However, it is very complex, even given so few examples and predictors. \n",
    "\n",
    "The main branches split into a) age at marriage <= 18, b) 23-26 c) > 44. (These do not encompass all eventualities). Basically, those who marry whilst young (<=26) have complex trees, whereas those who marry older (>=44) are simple trees, affected mostly by parental death and divorce."
   ]
  },
  {
   "cell_type": "code",
   "execution_count": null,
   "metadata": {
    "collapsed": true
   },
   "outputs": [],
   "source": [
    "from sklearn import tree\n",
    "from io import StringIO\n",
    "from IPython.display import Image\n",
    "\n",
    "out = StringIO()\n",
    "tree.export_graphviz(classifier, out_file=out)\n",
    "\n",
    "import pydotplus\n",
    "graph=pydotplus.graph_from_dot_data(out.getvalue())\n",
    "Image(graph.create_png())"
   ]
  },
  {
   "cell_type": "markdown",
   "metadata": {},
   "source": [
    "## Click link to view decision tree ##\n",
    "\n",
    "[Decision Tree Image](https://drive.google.com/file/d/0B9E_gt6FCYe-TGpkUUJPX19TeFU/view?usp=sharing)"
   ]
  }
 ],
 "metadata": {
  "kernelspec": {
   "display_name": "Python 3",
   "language": "python",
   "name": "python3"
  },
  "language_info": {
   "codemirror_mode": {
    "name": "ipython",
    "version": 3
   },
   "file_extension": ".py",
   "mimetype": "text/x-python",
   "name": "python",
   "nbconvert_exporter": "python",
   "pygments_lexer": "ipython3",
   "version": "3.5.1"
  }
 },
 "nbformat": 4,
 "nbformat_minor": 0
}
